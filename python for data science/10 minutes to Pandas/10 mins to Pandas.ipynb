{
 "cells": [
  {
   "cell_type": "markdown",
   "metadata": {},
   "source": [
    "### 10 minutes to Pandas"
   ]
  },
  {
   "cell_type": "code",
   "execution_count": 1,
   "metadata": {
    "collapsed": true
   },
   "outputs": [],
   "source": [
    "# importing libraries\n",
    "\n",
    "import pandas as pd\n",
    "import numpy as np\n",
    "import matplotlib.pyplot as plt"
   ]
  },
  {
   "cell_type": "markdown",
   "metadata": {},
   "source": [
    "Creating a Series by passing a list of values, letting pandas create a default integer index:"
   ]
  },
  {
   "cell_type": "code",
   "execution_count": 2,
   "metadata": {},
   "outputs": [
    {
     "name": "stdout",
     "output_type": "stream",
     "text": [
      "0    1.0\n",
      "1    3.0\n",
      "2    5.0\n",
      "3    NaN\n",
      "4    6.0\n",
      "5    8.0\n",
      "dtype: float64\n"
     ]
    }
   ],
   "source": [
    "s = pd.Series([1, 3, 5, np.nan, 6, 8])\n",
    "print s"
   ]
  },
  {
   "cell_type": "markdown",
   "metadata": {},
   "source": [
    "### Series\n",
    "\n",
    "Series is a one-dimensional labeled array capable of holding any data type (integers, strings, floating point numbers, Python objects, etc.). The axis labels are collectively referred to as the index. The basic method to create a Series is to call:"
   ]
  },
  {
   "cell_type": "markdown",
   "metadata": {
    "collapsed": true
   },
   "source": [
    "```mySeries = pd.Series(data, index=index)\n",
    "```\n",
    "\n",
    "Syntax for declaring a Series object\n",
    "\n",
    "Here, data can be many different things:\n",
    "\n",
    "- a Python dict\n",
    "- an ndarray\n",
    "- a scalar value (like 5)\n",
    "The passed index is a list of axis labels. Thus, this separates into a few cases depending on what data is"
   ]
  },
  {
   "cell_type": "markdown",
   "metadata": {},
   "source": [
    "#### From ndarray\n",
    "\n",
    "If data is an ndarray, index must be the same length as data. If no index is passed, one will be created having values [0, ..., len(data) - 1]"
   ]
  },
  {
   "cell_type": "code",
   "execution_count": 3,
   "metadata": {},
   "outputs": [
    {
     "name": "stdout",
     "output_type": "stream",
     "text": [
      "a    0.339193\n",
      "b    0.720179\n",
      "c    2.086801\n",
      "d    0.460535\n",
      "e   -1.278014\n",
      "dtype: float64\n",
      "Index([u'a', u'b', u'c', u'd', u'e'], dtype='object')\n",
      "0   -0.996717\n",
      "1    1.273811\n",
      "2    0.356022\n",
      "3   -0.590274\n",
      "4    0.058864\n",
      "dtype: float64\n"
     ]
    }
   ],
   "source": [
    "s = pd.Series(np.random.randn(5), index=['a','b','c','d','e'])\n",
    "\n",
    "print s\n",
    "\n",
    "print s.index\n",
    "\n",
    "print pd.Series(np.random.randn(5))"
   ]
  },
  {
   "cell_type": "markdown",
   "metadata": {},
   "source": [
    "#### From dict\n",
    "\n",
    "If data is a dict, if index is passed the values in data corresponding to the labels in the index will be pulled out. Otherwise, an index will be constructed from the sorted keys of the dict, if possible."
   ]
  },
  {
   "cell_type": "code",
   "execution_count": 4,
   "metadata": {},
   "outputs": [
    {
     "name": "stdout",
     "output_type": "stream",
     "text": [
      "a    0.0\n",
      "b    1.0\n",
      "c    2.0\n",
      "dtype: float64\n",
      "b    1.0\n",
      "c    2.0\n",
      "d    NaN\n",
      "a    0.0\n",
      "dtype: float64\n"
     ]
    }
   ],
   "source": [
    "d = {'a' : 0., 'b' : 1., 'c' : 2.}\n",
    "\n",
    "print pd.Series(d)\n",
    "\n",
    "print pd.Series(d, index=['b', 'c', 'd', 'a'])"
   ]
  },
  {
   "cell_type": "markdown",
   "metadata": {},
   "source": [
    "** Note NaN (not a number) is the standard missing data marker used in pandas **"
   ]
  },
  {
   "cell_type": "markdown",
   "metadata": {},
   "source": [
    "#### From scalar value\n",
    "If data is a scalar value, an index must be provided. The value will be repeated to match the length of index"
   ]
  },
  {
   "cell_type": "code",
   "execution_count": 8,
   "metadata": {},
   "outputs": [
    {
     "data": {
      "text/plain": [
       "a    5.0\n",
       "b    5.0\n",
       "c    5.0\n",
       "dtype: float64"
      ]
     },
     "execution_count": 8,
     "metadata": {},
     "output_type": "execute_result"
    }
   ],
   "source": [
    "pd.Series(5., index=['a', 'b', 'c'])"
   ]
  },
  {
   "cell_type": "markdown",
   "metadata": {},
   "source": [
    "Series acts very similarly to a ndarray, and is a valid argument to most NumPy functions. However, things like slicing also slice the index."
   ]
  },
  {
   "cell_type": "code",
   "execution_count": 16,
   "metadata": {},
   "outputs": [
    {
     "name": "stdout",
     "output_type": "stream",
     "text": [
      "a    0.339193\n",
      "b    0.720179\n",
      "c    2.086801\n",
      "d    0.460535\n",
      "e   -1.278014\n",
      "dtype: float64\n",
      "0.339192700753\n",
      "a    0.339193\n",
      "b    0.720179\n",
      "c    2.086801\n",
      "dtype: float64\n",
      "0.460535342798\n",
      "a    False\n",
      "b     True\n",
      "c     True\n",
      "d    False\n",
      "e    False\n",
      "dtype: bool\n",
      "b    0.720179\n",
      "c    2.086801\n",
      "dtype: float64\n",
      "e   -1.278014\n",
      "d    0.460535\n",
      "b    0.720179\n",
      "dtype: float64\n"
     ]
    }
   ],
   "source": [
    "print s\n",
    "print s[0]\n",
    "print s[:3]\n",
    "\n",
    "print s.median()\n",
    "\n",
    "print s > s.median()\n",
    "\n",
    "print s[s > s.median()]\n",
    "\n",
    "print s[[4,3,1]]\n"
   ]
  },
  {
   "cell_type": "markdown",
   "metadata": {},
   "source": [
    "A Series is like a fixed-size dict in that you can get and set values by index label:"
   ]
  },
  {
   "cell_type": "code",
   "execution_count": 20,
   "metadata": {},
   "outputs": [
    {
     "name": "stdout",
     "output_type": "stream",
     "text": [
      "0.339192700753\n",
      "a      0.339193\n",
      "b      0.720179\n",
      "c      2.086801\n",
      "d      0.460535\n",
      "e    100.000000\n",
      "dtype: float64\n",
      "True\n"
     ]
    }
   ],
   "source": [
    "print s['a']\n",
    "\n",
    "s['e'] = 100\n",
    "\n",
    "print s\n",
    "\n",
    "print 'e' in s"
   ]
  },
  {
   "cell_type": "markdown",
   "metadata": {},
   "source": [
    "Using the get method, a missing label will return None or specified default:"
   ]
  },
  {
   "cell_type": "code",
   "execution_count": 24,
   "metadata": {},
   "outputs": [
    {
     "name": "stdout",
     "output_type": "stream",
     "text": [
      "None\n",
      "-1\n",
      "nan\n"
     ]
    }
   ],
   "source": [
    "print s.get('f')\n",
    "\n",
    "# if not found return -1\n",
    "print s.get('f', -1)\n",
    "\n",
    "print s.get('f', np.nan)"
   ]
  },
  {
   "cell_type": "markdown",
   "metadata": {},
   "source": [
    "### Vectorized operations and label alignment with Series\n",
    "\n",
    "When doing data analysis, as with raw NumPy arrays looping through Series value-by-value is usually not necessary. Series can also be passed into most NumPy methods expecting an ndarray."
   ]
  },
  {
   "cell_type": "code",
   "execution_count": 26,
   "metadata": {},
   "outputs": [
    {
     "name": "stdout",
     "output_type": "stream",
     "text": [
      "a      0.678385\n",
      "b      1.440359\n",
      "c      4.173602\n",
      "d      0.921071\n",
      "e    200.000000\n",
      "dtype: float64\n",
      "a      0.678385\n",
      "b      1.440359\n",
      "c      4.173602\n",
      "d      0.921071\n",
      "e    200.000000\n",
      "dtype: float64\n"
     ]
    }
   ],
   "source": [
    "print s+s\n",
    "\n",
    "print s*2\n"
   ]
  },
  {
   "cell_type": "markdown",
   "metadata": {},
   "source": [
    "A key difference between Series and ndarray is that operations between Series automatically align the data based on label. Thus, you can write computations without giving consideration to whether the Series involved have the same labels."
   ]
  },
  {
   "cell_type": "code",
   "execution_count": 28,
   "metadata": {},
   "outputs": [
    {
     "name": "stdout",
     "output_type": "stream",
     "text": [
      "b      0.720179\n",
      "c      2.086801\n",
      "d      0.460535\n",
      "e    100.000000\n",
      "dtype: float64\n",
      "a    0.339193\n",
      "b    0.720179\n",
      "c    2.086801\n",
      "d    0.460535\n",
      "dtype: float64\n",
      "a         NaN\n",
      "b    1.440359\n",
      "c    4.173602\n",
      "d    0.921071\n",
      "e         NaN\n",
      "dtype: float64\n"
     ]
    }
   ],
   "source": [
    "print s[1:]\n",
    "\n",
    "print s[:-1]\n",
    "\n",
    "print s[1:] + s[:-1]"
   ]
  },
  {
   "cell_type": "markdown",
   "metadata": {},
   "source": [
    "The result of an operation between unaligned Series will have the union of the indexes involved. If a label is not found in one Series or the other, the result will be marked as missing NaN. Being able to write code without doing any explicit data alignment grants immense freedom and flexibility in interactive data analysis and research. The integrated data alignment features of the pandas data structures set pandas apart from the majority of related tools for working with labeled data."
   ]
  },
  {
   "cell_type": "markdown",
   "metadata": {},
   "source": [
    "#### Name attr\n",
    "\n",
    "Series can also have a name attribute:"
   ]
  },
  {
   "cell_type": "code",
   "execution_count": 30,
   "metadata": {},
   "outputs": [
    {
     "name": "stdout",
     "output_type": "stream",
     "text": [
      "0   -0.898311\n",
      "1    0.551849\n",
      "2   -1.312258\n",
      "3    0.442739\n",
      "4   -1.086597\n",
      "Name: something, dtype: float64\n",
      "0   -0.898311\n",
      "1    0.551849\n",
      "2   -1.312258\n",
      "3    0.442739\n",
      "4   -1.086597\n",
      "Name: different, dtype: float64\n"
     ]
    }
   ],
   "source": [
    "s = pd.Series(np.random.randn(5), name=\"something\")\n",
    "print s\n",
    "\n",
    "# renaming a series\n",
    "s2 = s.rename(\"different\")\n",
    "print s2"
   ]
  }
 ],
 "metadata": {
  "kernelspec": {
   "display_name": "Python 2",
   "language": "python",
   "name": "python2"
  },
  "language_info": {
   "codemirror_mode": {
    "name": "ipython",
    "version": 2
   },
   "file_extension": ".py",
   "mimetype": "text/x-python",
   "name": "python",
   "nbconvert_exporter": "python",
   "pygments_lexer": "ipython2",
   "version": "2.7.14"
  }
 },
 "nbformat": 4,
 "nbformat_minor": 2
}

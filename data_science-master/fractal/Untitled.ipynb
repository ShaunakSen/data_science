{
 "cells": [
  {
   "cell_type": "code",
   "execution_count": 20,
   "metadata": {},
   "outputs": [
    {
     "name": "stdout",
     "output_type": "stream",
     "text": [
      "[0, 0, 0, 1, 0, 1]\n",
      "[1, 1, 0, 0, 0, 0]\n"
     ]
    }
   ],
   "source": [
    "myList = [1, 3, 2, 3, 4, 1]\n",
    "\n",
    "finalList1 = []\n",
    "\n",
    "unique_list = []\n",
    "\n",
    "finalList2 = []\n",
    "\n",
    "unique_list2 = []\n",
    "\n",
    "for x in range(0, len(myList)):\n",
    "    if myList[x] not in unique_list:\n",
    "        unique_list.append(myList[x])\n",
    "        finalList1.append(0)\n",
    "    else:\n",
    "        finalList1.append(1)\n",
    "        \n",
    "flag = 0\n",
    "for x in range(0, len(myList)):\n",
    "    flag = 0\n",
    "    for y in range(x+1, len(myList)):\n",
    "        if myList[x] == myList[y]:\n",
    "            flag = 1\n",
    "        \n",
    "    finalList2.append(flag)\n",
    "\n",
    "print finalList1\n",
    "print finalList2"
   ]
  }
 ],
 "metadata": {
  "kernelspec": {
   "display_name": "Python 2",
   "language": "python",
   "name": "python2"
  },
  "language_info": {
   "codemirror_mode": {
    "name": "ipython",
    "version": 2
   },
   "file_extension": ".py",
   "mimetype": "text/x-python",
   "name": "python",
   "nbconvert_exporter": "python",
   "pygments_lexer": "ipython2",
   "version": "2.7.14"
  }
 },
 "nbformat": 4,
 "nbformat_minor": 2
}

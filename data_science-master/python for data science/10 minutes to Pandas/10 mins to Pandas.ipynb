{
 "cells": [
  {
   "cell_type": "markdown",
   "metadata": {},
   "source": [
    "### 10 minutes to Pandas"
   ]
  },
  {
   "cell_type": "code",
   "execution_count": 1,
   "metadata": {
    "collapsed": true
   },
   "outputs": [],
   "source": [
    "# importing libraries\n",
    "\n",
    "import pandas as pd\n",
    "import numpy as np\n",
    "import matplotlib.pyplot as plt"
   ]
  },
  {
   "cell_type": "markdown",
   "metadata": {},
   "source": [
    "Creating a Series by passing a list of values, letting pandas create a default integer index:"
   ]
  },
  {
   "cell_type": "code",
   "execution_count": 2,
   "metadata": {},
   "outputs": [
    {
     "name": "stdout",
     "output_type": "stream",
     "text": [
      "0    1.0\n",
      "1    3.0\n",
      "2    5.0\n",
      "3    NaN\n",
      "4    6.0\n",
      "5    8.0\n",
      "dtype: float64\n"
     ]
    }
   ],
   "source": [
    "s = pd.Series([1, 3, 5, np.nan, 6, 8])\n",
    "print s"
   ]
  },
  {
   "cell_type": "markdown",
   "metadata": {},
   "source": [
    "### Series\n",
    "\n",
    "Series is a one-dimensional labeled array capable of holding any data type (integers, strings, floating point numbers, Python objects, etc.). The axis labels are collectively referred to as the index. The basic method to create a Series is to call:"
   ]
  },
  {
   "cell_type": "markdown",
   "metadata": {
    "collapsed": true
   },
   "source": [
    "```mySeries = pd.Series(data, index=index)\n",
    "```\n",
    "\n",
    "Syntax for declaring a Series object\n",
    "\n",
    "Here, data can be many different things:\n",
    "\n",
    "- a Python dict\n",
    "- an ndarray\n",
    "- a scalar value (like 5)\n",
    "The passed index is a list of axis labels. Thus, this separates into a few cases depending on what data is"
   ]
  },
  {
   "cell_type": "markdown",
   "metadata": {},
   "source": [
    "#### From ndarray\n",
    "\n",
    "If data is an ndarray, index must be the same length as data. If no index is passed, one will be created having values [0, ..., len(data) - 1]"
   ]
  },
  {
   "cell_type": "code",
   "execution_count": 3,
   "metadata": {},
   "outputs": [
    {
     "name": "stdout",
     "output_type": "stream",
     "text": [
      "a   -0.168104\n",
      "b   -2.389233\n",
      "c   -0.068134\n",
      "d   -0.256722\n",
      "e   -1.163783\n",
      "dtype: float64\n",
      "Index([u'a', u'b', u'c', u'd', u'e'], dtype='object')\n",
      "0    0.778962\n",
      "1    0.096306\n",
      "2    0.462687\n",
      "3    0.311744\n",
      "4   -0.535912\n",
      "dtype: float64\n"
     ]
    }
   ],
   "source": [
    "s = pd.Series(np.random.randn(5), index=['a','b','c','d','e'])\n",
    "\n",
    "print s\n",
    "\n",
    "print s.index\n",
    "\n",
    "print pd.Series(np.random.randn(5))"
   ]
  },
  {
   "cell_type": "markdown",
   "metadata": {},
   "source": [
    "#### From dict\n",
    "\n",
    "If data is a dict, if index is passed the values in data corresponding to the labels in the index will be pulled out. Otherwise, an index will be constructed from the sorted keys of the dict, if possible."
   ]
  },
  {
   "cell_type": "code",
   "execution_count": 4,
   "metadata": {},
   "outputs": [
    {
     "name": "stdout",
     "output_type": "stream",
     "text": [
      "a    0.0\n",
      "b    1.0\n",
      "c    2.0\n",
      "dtype: float64\n",
      "b    1.0\n",
      "c    2.0\n",
      "d    NaN\n",
      "a    0.0\n",
      "dtype: float64\n"
     ]
    }
   ],
   "source": [
    "d = {'a' : 0., 'b' : 1., 'c' : 2.}\n",
    "\n",
    "print pd.Series(d)\n",
    "\n",
    "print pd.Series(d, index=['b', 'c', 'd', 'a'])"
   ]
  },
  {
   "cell_type": "markdown",
   "metadata": {},
   "source": [
    "** Note NaN (not a number) is the standard missing data marker used in pandas **"
   ]
  },
  {
   "cell_type": "markdown",
   "metadata": {},
   "source": [
    "#### From scalar value\n",
    "If data is a scalar value, an index must be provided. The value will be repeated to match the length of index"
   ]
  },
  {
   "cell_type": "code",
   "execution_count": 5,
   "metadata": {},
   "outputs": [
    {
     "data": {
      "text/plain": [
       "a    5.0\n",
       "b    5.0\n",
       "c    5.0\n",
       "dtype: float64"
      ]
     },
     "execution_count": 5,
     "metadata": {},
     "output_type": "execute_result"
    }
   ],
   "source": [
    "pd.Series(5., index=['a', 'b', 'c'])"
   ]
  },
  {
   "cell_type": "markdown",
   "metadata": {},
   "source": [
    "Series acts very similarly to a ndarray, and is a valid argument to most NumPy functions. However, things like slicing also slice the index."
   ]
  },
  {
   "cell_type": "code",
   "execution_count": 6,
   "metadata": {},
   "outputs": [
    {
     "name": "stdout",
     "output_type": "stream",
     "text": [
      "a   -0.168104\n",
      "b   -2.389233\n",
      "c   -0.068134\n",
      "d   -0.256722\n",
      "e   -1.163783\n",
      "dtype: float64\n",
      "-0.168103742236\n",
      "a   -0.168104\n",
      "b   -2.389233\n",
      "c   -0.068134\n",
      "dtype: float64\n",
      "-0.256722296736\n",
      "a     True\n",
      "b    False\n",
      "c     True\n",
      "d    False\n",
      "e    False\n",
      "dtype: bool\n",
      "a   -0.168104\n",
      "c   -0.068134\n",
      "dtype: float64\n",
      "e   -1.163783\n",
      "d   -0.256722\n",
      "b   -2.389233\n",
      "dtype: float64\n"
     ]
    }
   ],
   "source": [
    "print s\n",
    "print s[0]\n",
    "print s[:3]\n",
    "\n",
    "print s.median()\n",
    "\n",
    "print s > s.median()\n",
    "\n",
    "print s[s > s.median()]\n",
    "\n",
    "print s[[4,3,1]]\n"
   ]
  },
  {
   "cell_type": "markdown",
   "metadata": {},
   "source": [
    "A Series is like a fixed-size dict in that you can get and set values by index label:"
   ]
  },
  {
   "cell_type": "code",
   "execution_count": 7,
   "metadata": {},
   "outputs": [
    {
     "name": "stdout",
     "output_type": "stream",
     "text": [
      "-0.168103742236\n",
      "a     -0.168104\n",
      "b     -2.389233\n",
      "c     -0.068134\n",
      "d     -0.256722\n",
      "e    100.000000\n",
      "dtype: float64\n",
      "True\n"
     ]
    }
   ],
   "source": [
    "print s['a']\n",
    "\n",
    "s['e'] = 100\n",
    "\n",
    "print s\n",
    "\n",
    "print 'e' in s"
   ]
  },
  {
   "cell_type": "markdown",
   "metadata": {},
   "source": [
    "Using the get method, a missing label will return None or specified default:"
   ]
  },
  {
   "cell_type": "code",
   "execution_count": 8,
   "metadata": {},
   "outputs": [
    {
     "name": "stdout",
     "output_type": "stream",
     "text": [
      "None\n",
      "-1\n",
      "nan\n"
     ]
    }
   ],
   "source": [
    "print s.get('f')\n",
    "\n",
    "# if not found return -1\n",
    "print s.get('f', -1)\n",
    "\n",
    "print s.get('f', np.nan)"
   ]
  },
  {
   "cell_type": "markdown",
   "metadata": {},
   "source": [
    "### Vectorized operations and label alignment with Series\n",
    "\n",
    "When doing data analysis, as with raw NumPy arrays looping through Series value-by-value is usually not necessary. Series can also be passed into most NumPy methods expecting an ndarray."
   ]
  },
  {
   "cell_type": "code",
   "execution_count": 9,
   "metadata": {},
   "outputs": [
    {
     "name": "stdout",
     "output_type": "stream",
     "text": [
      "a     -0.336207\n",
      "b     -4.778466\n",
      "c     -0.136267\n",
      "d     -0.513445\n",
      "e    200.000000\n",
      "dtype: float64\n",
      "a     -0.336207\n",
      "b     -4.778466\n",
      "c     -0.136267\n",
      "d     -0.513445\n",
      "e    200.000000\n",
      "dtype: float64\n"
     ]
    }
   ],
   "source": [
    "print s+s\n",
    "\n",
    "print s*2\n"
   ]
  },
  {
   "cell_type": "markdown",
   "metadata": {},
   "source": [
    "A key difference between Series and ndarray is that operations between Series automatically align the data based on label. Thus, you can write computations without giving consideration to whether the Series involved have the same labels."
   ]
  },
  {
   "cell_type": "code",
   "execution_count": 10,
   "metadata": {},
   "outputs": [
    {
     "name": "stdout",
     "output_type": "stream",
     "text": [
      "b     -2.389233\n",
      "c     -0.068134\n",
      "d     -0.256722\n",
      "e    100.000000\n",
      "dtype: float64\n",
      "a   -0.168104\n",
      "b   -2.389233\n",
      "c   -0.068134\n",
      "d   -0.256722\n",
      "dtype: float64\n",
      "a         NaN\n",
      "b   -4.778466\n",
      "c   -0.136267\n",
      "d   -0.513445\n",
      "e         NaN\n",
      "dtype: float64\n"
     ]
    }
   ],
   "source": [
    "print s[1:]\n",
    "\n",
    "print s[:-1]\n",
    "\n",
    "print s[1:] + s[:-1]"
   ]
  },
  {
   "cell_type": "markdown",
   "metadata": {},
   "source": [
    "The result of an operation between unaligned Series will have the union of the indexes involved. If a label is not found in one Series or the other, the result will be marked as missing NaN. Being able to write code without doing any explicit data alignment grants immense freedom and flexibility in interactive data analysis and research. The integrated data alignment features of the pandas data structures set pandas apart from the majority of related tools for working with labeled data."
   ]
  },
  {
   "cell_type": "markdown",
   "metadata": {},
   "source": [
    "#### Name attr\n",
    "\n",
    "Series can also have a name attribute:"
   ]
  },
  {
   "cell_type": "code",
   "execution_count": 11,
   "metadata": {},
   "outputs": [
    {
     "name": "stdout",
     "output_type": "stream",
     "text": [
      "0   -0.348256\n",
      "1   -0.185908\n",
      "2   -1.931755\n",
      "3    0.193543\n",
      "4   -1.417087\n",
      "Name: something, dtype: float64\n",
      "0   -0.348256\n",
      "1   -0.185908\n",
      "2   -1.931755\n",
      "3    0.193543\n",
      "4   -1.417087\n",
      "Name: different, dtype: float64\n"
     ]
    }
   ],
   "source": [
    "s = pd.Series(np.random.randn(5), name=\"something\")\n",
    "print s\n",
    "\n",
    "# renaming a series\n",
    "s2 = s.rename(\"different\")\n",
    "print s2"
   ]
  },
  {
   "cell_type": "markdown",
   "metadata": {},
   "source": [
    "### Data Frame\n",
    "\n",
    "DataFrame is a 2-dimensional labeled data structure with columns of potentially different types. You can think of it like a spreadsheet or SQL table, or a **dict of Series objects**. It is generally the most commonly used pandas object. Like Series, DataFrame accepts many different kinds of input:\n",
    "\n",
    "1. Dict of 1D ndarrays, lists, dicts or Series\n",
    "2. 2-D numpy.ndarray\n",
    "3. Structured or record ndarray\n",
    "4. A Series\n",
    "\n",
    "Along with the data, you can optionally pass index (row labels) and columns (column labels) arguments. If you pass an index and / or columns, you are guaranteeing the index and / or columns of the resulting DataFrame. Thus, a dict of Series plus a specific index will discard all data not matching up to the passed index.\n",
    "\n",
    "If axis labels are not passed, they will be constructed from the input data based on common sense rules.\n",
    "\n",
    "#### From dict of Series or dicts\n",
    "\n",
    "The result index will be the union of the indexes of the various Series. If there are any nested dicts, these will be first converted to Series. If no columns are passed, the columns will be the sorted list of dict keys."
   ]
  },
  {
   "cell_type": "code",
   "execution_count": 12,
   "metadata": {},
   "outputs": [
    {
     "name": "stdout",
     "output_type": "stream",
     "text": [
      "   one  two\n",
      "a  1.0    1\n",
      "b  2.0    2\n",
      "c  3.0    3\n",
      "d  NaN    4\n"
     ]
    }
   ],
   "source": [
    "d = {'one': pd.Series([1,2,3], index=['a', 'b', 'c']), 'two': pd.Series([1,2,3,4], index=['a', 'b', 'c', 'd'])}\n",
    "\n",
    "df = pd.DataFrame(d)\n",
    "\n",
    "print df"
   ]
  },
  {
   "cell_type": "markdown",
   "metadata": {},
   "source": [
    "#### The row and cols of a DataFrame can be accessed by index and column attr resp"
   ]
  },
  {
   "cell_type": "code",
   "execution_count": 13,
   "metadata": {
    "scrolled": true
   },
   "outputs": [
    {
     "name": "stdout",
     "output_type": "stream",
     "text": [
      "   one  two\n",
      "d  NaN    4\n",
      "b  2.0    2\n",
      "a  1.0    1\n",
      "   two three\n",
      "d    4   NaN\n",
      "b    2   NaN\n",
      "a    1   NaN\n",
      "Index([u'a', u'b', u'c', u'd'], dtype='object')\n",
      "Index([u'one', u'two'], dtype='object')\n"
     ]
    }
   ],
   "source": [
    "print pd.DataFrame(d, index=['d', 'b', 'a'])\n",
    "\n",
    "# there is no col 'three' hence returns NaNs\n",
    "print pd.DataFrame(d, index=['d', 'b', 'a'], columns=['two', 'three'])\n",
    "\n",
    "print df.index\n",
    "\n",
    "print df.columns"
   ]
  },
  {
   "cell_type": "markdown",
   "metadata": {},
   "source": [
    "#### From dict of ndarrays / lists\n",
    "\n",
    "The ndarrays must all be the same length. If an index is passed, it must clearly also be the same length as the arrays. If no index is passed, the result will be range(n), where n is the array length."
   ]
  },
  {
   "cell_type": "code",
   "execution_count": 14,
   "metadata": {},
   "outputs": [
    {
     "name": "stdout",
     "output_type": "stream",
     "text": [
      "   one  two\n",
      "0    1    4\n",
      "1    2    3\n",
      "2    3    2\n",
      "3    4    1\n",
      "   one  two\n",
      "a    1    4\n",
      "b    2    3\n",
      "c    3    2\n",
      "d    4    1\n"
     ]
    }
   ],
   "source": [
    "d = {\n",
    "    'one': [1, 2, 3, 4],\n",
    "    'two': [4, 3, 2, 1]\n",
    "}\n",
    "\n",
    "print pd.DataFrame(d)\n",
    "\n",
    "print pd.DataFrame(d, index=['a','b','c','d'])"
   ]
  },
  {
   "cell_type": "markdown",
   "metadata": {},
   "source": []
  },
  {
   "cell_type": "markdown",
   "metadata": {},
   "source": [
    "#### From a list of dicts"
   ]
  },
  {
   "cell_type": "code",
   "execution_count": 15,
   "metadata": {},
   "outputs": [
    {
     "name": "stdout",
     "output_type": "stream",
     "text": [
      "   a   b     c\n",
      "0  1   2   NaN\n",
      "1  5  10  20.0\n",
      "        a   b     c\n",
      "first   1   2   NaN\n",
      "second  5  10  20.0\n",
      "   a   b\n",
      "0  1   2\n",
      "1  5  10\n"
     ]
    }
   ],
   "source": [
    "data2 = [{'a': 1, 'b': 2}, {'a': 5, 'b': 10, 'c': 20}]\n",
    "\n",
    "print pd.DataFrame(data2)\n",
    "\n",
    "print pd.DataFrame(data2, index=['first', 'second'])\n",
    "\n",
    "print pd.DataFrame(data2, columns = ['a', 'b'])"
   ]
  },
  {
   "cell_type": "markdown",
   "metadata": {},
   "source": [
    "#### DataFrame from items\n",
    "\n",
    "DataFrame.from_items works analogously to the form of the dict constructor that takes a sequence of (key, value) pairs, where the keys are column (or row, in the case of orient='index') names, and the value are the column values (or row values). This can be useful for constructing a DataFrame with the columns in a particular order without having to pass an explicit list of columns:"
   ]
  },
  {
   "cell_type": "code",
   "execution_count": 16,
   "metadata": {},
   "outputs": [
    {
     "name": "stdout",
     "output_type": "stream",
     "text": [
      "   A  B\n",
      "0  1  5\n",
      "1  2  6\n",
      "2  3  7\n",
      "   1  2\n",
      "A  1  5\n",
      "B  2  6\n",
      "C  3  7\n"
     ]
    }
   ],
   "source": [
    "print pd.DataFrame.from_items([('A', [1, 2, 3]), ('B', [5, 6, 7])], orient='columns')\n",
    "\n",
    "# If you pass orient='index', the keys will be the row labels. But in this case you must also pass the desired column names\n",
    "\n",
    "print pd.DataFrame.from_items([('A', [1, 5]), ('B', [2, 6]), ('C', [3, 7])], orient='index', columns=[1, 2])"
   ]
  },
  {
   "cell_type": "markdown",
   "metadata": {},
   "source": [
    "#### Simple operations on DataFrames: Column selection, addition, deletion\n",
    "\n",
    "You can treat a DataFrame semantically like a dict of like-indexed Series objects. Getting, setting, and deleting columns works with the same syntax as the analogous dict operations:"
   ]
  },
  {
   "cell_type": "code",
   "execution_count": 17,
   "metadata": {},
   "outputs": [
    {
     "name": "stdout",
     "output_type": "stream",
     "text": [
      "   one  two\n",
      "a  1.0    1\n",
      "b  2.0    2\n",
      "c  3.0    3\n",
      "d  NaN    4\n",
      "a    1.0\n",
      "b    2.0\n",
      "c    3.0\n",
      "d    NaN\n",
      "Name: one, dtype: float64\n",
      "   one  two  three\n",
      "a  1.0    1    1.0\n",
      "b  2.0    2    4.0\n",
      "c  3.0    3    9.0\n",
      "d  NaN    4    NaN\n",
      "   one  two  three   flag\n",
      "a  1.0    1    1.0  False\n",
      "b  2.0    2    4.0  False\n",
      "c  3.0    3    9.0   True\n",
      "d  NaN    4    NaN  False\n"
     ]
    }
   ],
   "source": [
    "print df\n",
    "\n",
    "print df['one']\n",
    "\n",
    "df['three'] = df['one'] * df['two']\n",
    "\n",
    "print df\n",
    "\n",
    "df['flag'] = df['one'] > 2\n",
    "\n",
    "print df\n"
   ]
  },
  {
   "cell_type": "markdown",
   "metadata": {},
   "source": [
    "Columns can be deleted or popped like with a dict"
   ]
  },
  {
   "cell_type": "code",
   "execution_count": 18,
   "metadata": {},
   "outputs": [
    {
     "name": "stdout",
     "output_type": "stream",
     "text": [
      "   one  two  three   flag\n",
      "a  1.0    1    1.0  False\n",
      "b  2.0    2    4.0  False\n",
      "c  3.0    3    9.0   True\n",
      "d  NaN    4    NaN  False\n",
      "a    1.0\n",
      "b    4.0\n",
      "c    9.0\n",
      "d    NaN\n",
      "Name: three, dtype: float64\n"
     ]
    }
   ],
   "source": [
    "# del df['three']\n",
    "\n",
    "df['three'] = df['one'] * df['two']\n",
    "print df\n",
    "\n",
    "# pop deletes and returns the column\n",
    "three = df.pop('three')\n",
    "\n",
    "print three"
   ]
  },
  {
   "cell_type": "markdown",
   "metadata": {},
   "source": [
    "** When inserting a scalar value, it will naturally be propagated to fill the column: **"
   ]
  },
  {
   "cell_type": "code",
   "execution_count": 19,
   "metadata": {},
   "outputs": [
    {
     "name": "stdout",
     "output_type": "stream",
     "text": [
      "   one  two   flag  foo\n",
      "a  1.0    1  False  bar\n",
      "b  2.0    2  False  bar\n",
      "c  3.0    3   True  bar\n",
      "d  NaN    4  False  bar\n"
     ]
    }
   ],
   "source": [
    "df['foo'] = 'bar'\n",
    "\n",
    "print df"
   ]
  },
  {
   "cell_type": "markdown",
   "metadata": {},
   "source": [
    "When inserting a Series that does not have the same index as the DataFrame, it will be conformed to the DataFrame’s index:"
   ]
  },
  {
   "cell_type": "code",
   "execution_count": 20,
   "metadata": {},
   "outputs": [
    {
     "name": "stdout",
     "output_type": "stream",
     "text": [
      "a    1.0\n",
      "b    2.0\n",
      "Name: one, dtype: float64\n",
      "   one  two   flag  foo  one_truncated\n",
      "a  1.0    1  False  bar            1.0\n",
      "b  2.0    2  False  bar            2.0\n",
      "c  3.0    3   True  bar            NaN\n",
      "d  NaN    4  False  bar            NaN\n"
     ]
    }
   ],
   "source": [
    "print df['one'][:2]\n",
    "\n",
    "df['one_truncated'] = df['one'][:2]\n",
    "print df"
   ]
  },
  {
   "cell_type": "markdown",
   "metadata": {},
   "source": [
    "#### Assigning New Columns in Method Chains\n",
    "\n",
    "Inspired by dplyr’s mutate verb, DataFrame has an assign() method that allows you to easily create new columns that are potentially derived from existing columns."
   ]
  },
  {
   "cell_type": "code",
   "execution_count": 21,
   "metadata": {},
   "outputs": [
    {
     "name": "stdout",
     "output_type": "stream",
     "text": [
      "   sepal_length  sepal_width  petal_length  petal_width species\n",
      "0           5.1          3.5           1.4          0.2  setosa\n",
      "1           4.9          3.0           1.4          0.2  setosa\n",
      "2           4.7          3.2           1.3          0.2  setosa\n",
      "3           4.6          3.1           1.5          0.2  setosa\n",
      "4           5.0          3.6           1.4          0.2  setosa\n"
     ]
    },
    {
     "data": {
      "text/html": [
       "<div>\n",
       "<style>\n",
       "    .dataframe thead tr:only-child th {\n",
       "        text-align: right;\n",
       "    }\n",
       "\n",
       "    .dataframe thead th {\n",
       "        text-align: left;\n",
       "    }\n",
       "\n",
       "    .dataframe tbody tr th {\n",
       "        vertical-align: top;\n",
       "    }\n",
       "</style>\n",
       "<table border=\"1\" class=\"dataframe\">\n",
       "  <thead>\n",
       "    <tr style=\"text-align: right;\">\n",
       "      <th></th>\n",
       "      <th>sepal_length</th>\n",
       "      <th>sepal_width</th>\n",
       "      <th>petal_length</th>\n",
       "      <th>petal_width</th>\n",
       "      <th>species</th>\n",
       "      <th>sepal_ratio</th>\n",
       "    </tr>\n",
       "  </thead>\n",
       "  <tbody>\n",
       "    <tr>\n",
       "      <th>0</th>\n",
       "      <td>5.1</td>\n",
       "      <td>3.5</td>\n",
       "      <td>1.4</td>\n",
       "      <td>0.2</td>\n",
       "      <td>setosa</td>\n",
       "      <td>0.686275</td>\n",
       "    </tr>\n",
       "    <tr>\n",
       "      <th>1</th>\n",
       "      <td>4.9</td>\n",
       "      <td>3.0</td>\n",
       "      <td>1.4</td>\n",
       "      <td>0.2</td>\n",
       "      <td>setosa</td>\n",
       "      <td>0.612245</td>\n",
       "    </tr>\n",
       "    <tr>\n",
       "      <th>2</th>\n",
       "      <td>4.7</td>\n",
       "      <td>3.2</td>\n",
       "      <td>1.3</td>\n",
       "      <td>0.2</td>\n",
       "      <td>setosa</td>\n",
       "      <td>0.680851</td>\n",
       "    </tr>\n",
       "    <tr>\n",
       "      <th>3</th>\n",
       "      <td>4.6</td>\n",
       "      <td>3.1</td>\n",
       "      <td>1.5</td>\n",
       "      <td>0.2</td>\n",
       "      <td>setosa</td>\n",
       "      <td>0.673913</td>\n",
       "    </tr>\n",
       "    <tr>\n",
       "      <th>4</th>\n",
       "      <td>5.0</td>\n",
       "      <td>3.6</td>\n",
       "      <td>1.4</td>\n",
       "      <td>0.2</td>\n",
       "      <td>setosa</td>\n",
       "      <td>0.720000</td>\n",
       "    </tr>\n",
       "  </tbody>\n",
       "</table>\n",
       "</div>"
      ],
      "text/plain": [
       "   sepal_length  sepal_width  petal_length  petal_width species  sepal_ratio\n",
       "0           5.1          3.5           1.4          0.2  setosa     0.686275\n",
       "1           4.9          3.0           1.4          0.2  setosa     0.612245\n",
       "2           4.7          3.2           1.3          0.2  setosa     0.680851\n",
       "3           4.6          3.1           1.5          0.2  setosa     0.673913\n",
       "4           5.0          3.6           1.4          0.2  setosa     0.720000"
      ]
     },
     "execution_count": 21,
     "metadata": {},
     "output_type": "execute_result"
    }
   ],
   "source": [
    "# read in the iris dataset\n",
    "\n",
    "iris = pd.read_csv('data/iris.csv')\n",
    "\n",
    "print iris.head()\n",
    "\n",
    "# mutate a new column\n",
    "\n",
    "iris.assign(sepal_ratio = iris['sepal_width']/iris['sepal_length']).head()"
   ]
  },
  {
   "cell_type": "markdown",
   "metadata": {},
   "source": [
    "Above was an example of inserting a precomputed value. We can also pass in a function of one argument to be evalutated on the DataFrame being assigned to."
   ]
  },
  {
   "cell_type": "code",
   "execution_count": 22,
   "metadata": {},
   "outputs": [
    {
     "data": {
      "text/html": [
       "<div>\n",
       "<style>\n",
       "    .dataframe thead tr:only-child th {\n",
       "        text-align: right;\n",
       "    }\n",
       "\n",
       "    .dataframe thead th {\n",
       "        text-align: left;\n",
       "    }\n",
       "\n",
       "    .dataframe tbody tr th {\n",
       "        vertical-align: top;\n",
       "    }\n",
       "</style>\n",
       "<table border=\"1\" class=\"dataframe\">\n",
       "  <thead>\n",
       "    <tr style=\"text-align: right;\">\n",
       "      <th></th>\n",
       "      <th>sepal_length</th>\n",
       "      <th>sepal_width</th>\n",
       "      <th>petal_length</th>\n",
       "      <th>petal_width</th>\n",
       "      <th>species</th>\n",
       "      <th>sepal_ratio</th>\n",
       "    </tr>\n",
       "  </thead>\n",
       "  <tbody>\n",
       "    <tr>\n",
       "      <th>0</th>\n",
       "      <td>5.1</td>\n",
       "      <td>3.5</td>\n",
       "      <td>1.4</td>\n",
       "      <td>0.2</td>\n",
       "      <td>setosa</td>\n",
       "      <td>0.686275</td>\n",
       "    </tr>\n",
       "    <tr>\n",
       "      <th>1</th>\n",
       "      <td>4.9</td>\n",
       "      <td>3.0</td>\n",
       "      <td>1.4</td>\n",
       "      <td>0.2</td>\n",
       "      <td>setosa</td>\n",
       "      <td>0.612245</td>\n",
       "    </tr>\n",
       "    <tr>\n",
       "      <th>2</th>\n",
       "      <td>4.7</td>\n",
       "      <td>3.2</td>\n",
       "      <td>1.3</td>\n",
       "      <td>0.2</td>\n",
       "      <td>setosa</td>\n",
       "      <td>0.680851</td>\n",
       "    </tr>\n",
       "    <tr>\n",
       "      <th>3</th>\n",
       "      <td>4.6</td>\n",
       "      <td>3.1</td>\n",
       "      <td>1.5</td>\n",
       "      <td>0.2</td>\n",
       "      <td>setosa</td>\n",
       "      <td>0.673913</td>\n",
       "    </tr>\n",
       "    <tr>\n",
       "      <th>4</th>\n",
       "      <td>5.0</td>\n",
       "      <td>3.6</td>\n",
       "      <td>1.4</td>\n",
       "      <td>0.2</td>\n",
       "      <td>setosa</td>\n",
       "      <td>0.720000</td>\n",
       "    </tr>\n",
       "  </tbody>\n",
       "</table>\n",
       "</div>"
      ],
      "text/plain": [
       "   sepal_length  sepal_width  petal_length  petal_width species  sepal_ratio\n",
       "0           5.1          3.5           1.4          0.2  setosa     0.686275\n",
       "1           4.9          3.0           1.4          0.2  setosa     0.612245\n",
       "2           4.7          3.2           1.3          0.2  setosa     0.680851\n",
       "3           4.6          3.1           1.5          0.2  setosa     0.673913\n",
       "4           5.0          3.6           1.4          0.2  setosa     0.720000"
      ]
     },
     "execution_count": 22,
     "metadata": {},
     "output_type": "execute_result"
    }
   ],
   "source": [
    "iris.assign(sepal_ratio = lambda x: (x['sepal_width'])/x['sepal_length']).head()"
   ]
  },
  {
   "cell_type": "markdown",
   "metadata": {},
   "source": [
    "**assign always returns a copy of the data, leaving the original DataFrame untouched.**"
   ]
  },
  {
   "cell_type": "code",
   "execution_count": 23,
   "metadata": {},
   "outputs": [
    {
     "data": {
      "text/html": [
       "<div>\n",
       "<style>\n",
       "    .dataframe thead tr:only-child th {\n",
       "        text-align: right;\n",
       "    }\n",
       "\n",
       "    .dataframe thead th {\n",
       "        text-align: left;\n",
       "    }\n",
       "\n",
       "    .dataframe tbody tr th {\n",
       "        vertical-align: top;\n",
       "    }\n",
       "</style>\n",
       "<table border=\"1\" class=\"dataframe\">\n",
       "  <thead>\n",
       "    <tr style=\"text-align: right;\">\n",
       "      <th></th>\n",
       "      <th>sepal_length</th>\n",
       "      <th>sepal_width</th>\n",
       "      <th>petal_length</th>\n",
       "      <th>petal_width</th>\n",
       "      <th>species</th>\n",
       "    </tr>\n",
       "  </thead>\n",
       "  <tbody>\n",
       "    <tr>\n",
       "      <th>0</th>\n",
       "      <td>5.1</td>\n",
       "      <td>3.5</td>\n",
       "      <td>1.4</td>\n",
       "      <td>0.2</td>\n",
       "      <td>setosa</td>\n",
       "    </tr>\n",
       "    <tr>\n",
       "      <th>1</th>\n",
       "      <td>4.9</td>\n",
       "      <td>3.0</td>\n",
       "      <td>1.4</td>\n",
       "      <td>0.2</td>\n",
       "      <td>setosa</td>\n",
       "    </tr>\n",
       "    <tr>\n",
       "      <th>2</th>\n",
       "      <td>4.7</td>\n",
       "      <td>3.2</td>\n",
       "      <td>1.3</td>\n",
       "      <td>0.2</td>\n",
       "      <td>setosa</td>\n",
       "    </tr>\n",
       "    <tr>\n",
       "      <th>3</th>\n",
       "      <td>4.6</td>\n",
       "      <td>3.1</td>\n",
       "      <td>1.5</td>\n",
       "      <td>0.2</td>\n",
       "      <td>setosa</td>\n",
       "    </tr>\n",
       "    <tr>\n",
       "      <th>4</th>\n",
       "      <td>5.0</td>\n",
       "      <td>3.6</td>\n",
       "      <td>1.4</td>\n",
       "      <td>0.2</td>\n",
       "      <td>setosa</td>\n",
       "    </tr>\n",
       "  </tbody>\n",
       "</table>\n",
       "</div>"
      ],
      "text/plain": [
       "   sepal_length  sepal_width  petal_length  petal_width species\n",
       "0           5.1          3.5           1.4          0.2  setosa\n",
       "1           4.9          3.0           1.4          0.2  setosa\n",
       "2           4.7          3.2           1.3          0.2  setosa\n",
       "3           4.6          3.1           1.5          0.2  setosa\n",
       "4           5.0          3.6           1.4          0.2  setosa"
      ]
     },
     "execution_count": 23,
     "metadata": {},
     "output_type": "execute_result"
    }
   ],
   "source": [
    "iris.head()\n",
    "\n",
    "# original data unchanged"
   ]
  },
  {
   "cell_type": "markdown",
   "metadata": {},
   "source": [
    "Passing a callable, as opposed to an actual value to be inserted, is useful when you don’t have a reference to the DataFrame at hand. This is common when using assign in chains of operations. For example, we can limit the DataFrame to just those observations with a Sepal Length greater than 5, calculate the ratio, and plot:"
   ]
  },
  {
   "cell_type": "code",
   "execution_count": 24,
   "metadata": {
    "scrolled": true
   },
   "outputs": [
    {
     "name": "stdout",
     "output_type": "stream",
     "text": [
      "Populating the interactive namespace from numpy and matplotlib\n",
      "     sepal_length  sepal_width  petal_length  petal_width    species\n",
      "105           7.6          3.0           6.6          2.1  virginica\n",
      "107           7.3          2.9           6.3          1.8  virginica\n",
      "109           7.2          3.6           6.1          2.5  virginica\n",
      "117           7.7          3.8           6.7          2.2  virginica\n",
      "118           7.7          2.6           6.9          2.3  virginica\n",
      "122           7.7          2.8           6.7          2.0  virginica\n",
      "130           7.4          2.8           6.1          1.9  virginica\n",
      "131           7.9          3.8           6.4          2.0  virginica\n",
      "135           7.7          3.0           6.1          2.3  virginica\n"
     ]
    },
    {
     "data": {
      "text/plain": [
       "<matplotlib.axes._subplots.AxesSubplot at 0x9dd9588>"
      ]
     },
     "execution_count": 24,
     "metadata": {},
     "output_type": "execute_result"
    },
    {
     "data": {
      "image/png": "[encoded data removed]",
      "text/plain": [
       "<matplotlib.figure.Figure at 0x9dd98d0>"
      ]
     },
     "metadata": {},
     "output_type": "display_data"
    }
   ],
   "source": [
    "# . query(): like subset\n",
    "\n",
    "%pylab inline\n",
    "\n",
    "print iris.query('petal_length > 6')\n",
    "\n",
    "iris.query('petal_length > 5').assign(sepal_ratio = lambda x: x.sepal_width/x.sepal_length,\n",
    "                                     petal_ratio = lambda x: x.petal_width/x.petal_length).plot(kind = 'scatter', x = 'sepal_ratio', y = 'petal_ratio')\n"
   ]
  },
  {
   "cell_type": "markdown",
   "metadata": {},
   "source": [
    "** Warning: All expressions are computed first, and then assigned. So you can’t refer to another column being assigned in the same call to assign. For example: **\n",
    "\n",
    "```\n",
    "\n",
    "In [74]: # Don't do this, bad reference to `C`\n",
    "        df.assign(C = lambda x: x['A'] + x['B'],\n",
    "                  D = lambda x: x['A'] + x['C'])\n",
    "In [2]: # Instead, break it into two assigns\n",
    "        (df.assign(C = lambda x: x['A'] + x['B'])\n",
    "           .assign(D = lambda x: x['A'] + x['C']))\n",
    "```"
   ]
  },
  {
   "cell_type": "markdown",
   "metadata": {},
   "source": [
    "### Indexing/Selection\n",
    "\n",
    "1. Selecting column: df[col]: Series\n",
    "2. Select row by label: df.loc[label]: Series\n",
    "3. Select row by int location: df.iloc[loc]: Series\n",
    "4. Slice rows: df[5:10]: DataFrame\n",
    "5. Select rows by Boolean Vector(like in R): df[bool_vector]: DataFrame\n",
    "\n",
    "Row selection, for example, returns a Series whose index is the columns of the DataFrame:"
   ]
  },
  {
   "cell_type": "code",
   "execution_count": 25,
   "metadata": {},
   "outputs": [
    {
     "name": "stdout",
     "output_type": "stream",
     "text": [
      "   one  two   flag  foo  one_truncated\n",
      "a  1.0    1  False  bar            1.0\n",
      "b  2.0    2  False  bar            2.0\n",
      "c  3.0    3   True  bar            NaN\n",
      "d  NaN    4  False  bar            NaN\n",
      "one                  2\n",
      "two                  2\n",
      "flag             False\n",
      "foo                bar\n",
      "one_truncated        2\n",
      "Name: b, dtype: object\n",
      "one                  2\n",
      "two                  2\n",
      "flag             False\n",
      "foo                bar\n",
      "one_truncated        2\n",
      "Name: b, dtype: object\n",
      "2.0\n",
      "2\n",
      "False\n",
      "bar\n",
      "2.0\n"
     ]
    }
   ],
   "source": [
    "print df\n",
    "\n",
    "print df.loc['b']\n",
    "\n",
    "print df.iloc[1]\n",
    "\n",
    "one_row = df.loc['b']\n",
    "\n",
    "# simple loop\n",
    "for value in one_row:\n",
    "    print value\n"
   ]
  },
  {
   "cell_type": "markdown",
   "metadata": {},
   "source": [
    "### Data alignment and arithmetic\n",
    "\n",
    "Data alignment between DataFrame objects automatically align on both the columns and the index (row labels). Again, the resulting object will have the union of the column and row labels."
   ]
  },
  {
   "cell_type": "code",
   "execution_count": 26,
   "metadata": {},
   "outputs": [
    {
     "name": "stdout",
     "output_type": "stream",
     "text": [
      "          A         B         C         D\n",
      "0  0.801770 -0.355041 -1.162588 -0.894311\n",
      "1 -0.257183  0.216568 -0.561696  2.036322\n",
      "2  0.924441  0.427542 -0.792020 -0.228610\n",
      "3 -0.191478 -1.390070 -0.624033  0.245334\n",
      "4  1.141935 -0.567868  0.315117 -1.249413\n",
      "5 -0.737217 -1.106826  1.140565 -0.973535\n",
      "6  1.783901  0.712680  0.940254 -1.227623\n",
      "7 -0.041232 -0.730511  1.725145 -0.433156\n",
      "8  0.149646 -0.233690 -0.980051 -0.169800\n",
      "9  0.733837  0.322426 -0.504589 -0.295560\n",
      "          A         B         C\n",
      "0  0.512376  0.253829 -0.463392\n",
      "1 -1.030561  1.105163 -0.421803\n",
      "2  0.023840  0.739403  0.016641\n",
      "3 -0.277735 -0.953534 -1.312835\n",
      "4  0.535370  0.612479  0.408387\n",
      "5  0.898166  0.544328 -1.306410\n",
      "6 -0.609311 -0.642300 -0.154400\n",
      "          A         B         C   D\n",
      "0  1.314147 -0.101212 -1.625981 NaN\n",
      "1 -1.287744  1.321730 -0.983500 NaN\n",
      "2  0.948280  1.166944 -0.775379 NaN\n",
      "3 -0.469214 -2.343604 -1.936868 NaN\n",
      "4  1.677305  0.044610  0.723504 NaN\n",
      "5  0.160950 -0.562498 -0.165846 NaN\n",
      "6  1.174590  0.070380  0.785854 NaN\n",
      "7       NaN       NaN       NaN NaN\n",
      "8       NaN       NaN       NaN NaN\n",
      "9       NaN       NaN       NaN NaN\n",
      "A    0.801770\n",
      "B   -0.355041\n",
      "C   -1.162588\n",
      "D   -0.894311\n",
      "Name: 0, dtype: float64\n",
      "          A         B         C         D\n",
      "0  0.000000  0.000000  0.000000  0.000000\n",
      "1 -1.058954  0.571609  0.600892  2.930633\n",
      "2  0.122670  0.782583  0.370568  0.665701\n",
      "3 -0.993249 -1.035029  0.538555  1.139645\n",
      "4  0.340165 -0.212827  1.477705 -0.355102\n",
      "5 -1.538987 -0.751784  2.303153 -0.079224\n",
      "6  0.982131  1.067722  2.102842 -0.333312\n",
      "7 -0.843002 -0.375470  2.887733  0.461155\n",
      "8 -0.652124  0.121352  0.182537  0.724511\n",
      "9 -0.067934  0.677467  0.657999  0.598751\n"
     ]
    }
   ],
   "source": [
    "# (10, 4) => 10 rows and 4 cols\n",
    "df = pd.DataFrame(np.random.randn(10, 4), columns=['A','B','C','D'])\n",
    "\n",
    "df1 = pd.DataFrame(np.random.randn(7, 3), columns=['A','B','C'])\n",
    "\n",
    "print df\n",
    "\n",
    "print df1\n",
    "\n",
    "print df + df1\n",
    "\n",
    "# When doing an operation between DataFrame and Series, the default behavior is to align the Series index\n",
    "# on the DataFrame columns, thus broadcasting row-wise. For example:\n",
    "\n",
    "print df.iloc[0]\n",
    "\n",
    "print df - df.iloc[0]\n",
    "\n"
   ]
  },
  {
   "cell_type": "markdown",
   "metadata": {},
   "source": [
    "In the special case of working with time series data, and the DataFrame index also contains dates, the broadcasting will be column-wise:"
   ]
  },
  {
   "cell_type": "code",
   "execution_count": 27,
   "metadata": {},
   "outputs": [
    {
     "name": "stdout",
     "output_type": "stream",
     "text": [
      "                   A         B         C\n",
      "2000-01-01 -2.578253  1.694160 -0.831198\n",
      "2000-01-02 -0.244163 -1.215260  1.947973\n",
      "2000-01-03  0.045129 -0.350518  0.410453\n",
      "2000-01-04  0.172836  1.750736  0.989039\n",
      "2000-01-05 -1.538526 -0.953325 -0.193850\n",
      "2000-01-06 -1.917456  1.260267  0.815350\n",
      "2000-01-07 -0.413516 -1.130264  0.133197\n",
      "2000-01-08  2.007004 -0.383707  0.499046\n"
     ]
    }
   ],
   "source": [
    "index = pd.date_range(\"1/1/2000\", periods=8)\n",
    "\n",
    "df = pd.DataFrame(np.random.randn(8, 3), index=index, columns=list('ABC'))\n",
    "\n",
    "print df"
   ]
  },
  {
   "cell_type": "markdown",
   "metadata": {},
   "source": [
    "Operations with scalars are as expected"
   ]
  },
  {
   "cell_type": "code",
   "execution_count": 28,
   "metadata": {},
   "outputs": [
    {
     "name": "stdout",
     "output_type": "stream",
     "text": [
      "df:                    A         B         C\n",
      "2000-01-01 -2.578253  1.694160 -0.831198\n",
      "2000-01-02 -0.244163 -1.215260  1.947973\n",
      "2000-01-03  0.045129 -0.350518  0.410453\n",
      "2000-01-04  0.172836  1.750736  0.989039\n",
      "2000-01-05 -1.538526 -0.953325 -0.193850\n",
      "2000-01-06 -1.917456  1.260267  0.815350\n",
      "2000-01-07 -0.413516 -1.130264  0.133197\n",
      "2000-01-08  2.007004 -0.383707  0.499046\n",
      "df*2 + 5                    A         B         C\n",
      "2000-01-01 -0.156505  8.388319  3.337603\n",
      "2000-01-02  4.511674  2.569479  8.895946\n",
      "2000-01-03  5.090259  4.298965  5.820906\n",
      "2000-01-04  5.345672  8.501472  6.978078\n",
      "2000-01-05  1.922948  3.093350  4.612301\n",
      "2000-01-06  1.165088  7.520533  6.630700\n",
      "2000-01-07  4.172967  2.739472  5.266393\n",
      "2000-01-08  9.014009  4.232585  5.998092\n",
      "1/df                     A         B         C\n",
      "2000-01-01  -0.387860  0.590263 -1.203082\n",
      "2000-01-02  -4.095621 -0.822869  0.513354\n",
      "2000-01-03  22.158519 -2.852923  2.436332\n",
      "2000-01-04   5.785840  0.571188  1.011083\n",
      "2000-01-05  -0.649973 -1.048960 -5.158636\n",
      "2000-01-06  -0.521524  0.793483  1.226467\n",
      "2000-01-07  -2.418285 -0.884749  7.507696\n",
      "2000-01-08   0.498255 -2.606153  2.003824\n"
     ]
    }
   ],
   "source": [
    "print \"df:\", df\n",
    "\n",
    "print \"df*2 + 5\", df*2 + 5\n",
    "\n",
    "print \"1/df\", 1/df"
   ]
  },
  {
   "cell_type": "markdown",
   "metadata": {},
   "source": [
    "#### Boolean Operators"
   ]
  },
  {
   "cell_type": "code",
   "execution_count": 29,
   "metadata": {},
   "outputs": [
    {
     "name": "stdout",
     "output_type": "stream",
     "text": [
      "       a      b\n",
      "0   True  False\n",
      "1  False   True\n",
      "2   True   True\n",
      "       a      b\n",
      "0  False   True\n",
      "1   True   True\n",
      "2   True  False\n",
      "       a      b\n",
      "0  False   True\n",
      "1   True  False\n",
      "2  False  False\n"
     ]
    }
   ],
   "source": [
    "df1 = pd.DataFrame({'a': [1, 0, 1], 'b': [0, 1, 1]}, dtype=bool)\n",
    "\n",
    "df2 = pd.DataFrame({'a': [0, 1, 1], 'b': [1, 1, 0]}, dtype=bool)\n",
    "\n",
    "print df1\n",
    "\n",
    "print df2\n",
    "\n",
    "# print df1 & df2\n",
    "\n",
    "# print df1 | df2\n",
    "\n",
    "# print df1 ^ df2\n",
    "\n",
    "print -df1"
   ]
  },
  {
   "cell_type": "markdown",
   "metadata": {},
   "source": [
    "#### Transposing and Data Interportability\n",
    "\n",
    "To transpose, access the T attribute (also the transpose function), similar to an ndarray:\n",
    "\n",
    "Elementwise NumPy ufuncs (log, exp, sqrt, ...) and various other NumPy functions can be used with no issues on DataFrame, assuming the data within are numeric:"
   ]
  },
  {
   "cell_type": "code",
   "execution_count": 30,
   "metadata": {},
   "outputs": [
    {
     "name": "stdout",
     "output_type": "stream",
     "text": [
      "                   A         B         C\n",
      "2000-01-01 -2.578253  1.694160 -0.831198\n",
      "2000-01-02 -0.244163 -1.215260  1.947973\n",
      "2000-01-03  0.045129 -0.350518  0.410453\n",
      "2000-01-04  0.172836  1.750736  0.989039\n",
      "2000-01-05 -1.538526 -0.953325 -0.193850\n",
      "   2000-01-01  2000-01-02  2000-01-03  2000-01-04  2000-01-05\n",
      "A   -2.578253   -0.244163    0.045129    0.172836   -1.538526\n",
      "B    1.694160   -1.215260   -0.350518    1.750736   -0.953325\n",
      "C   -0.831198    1.947973    0.410453    0.989039   -0.193850\n",
      "                   A         B         C\n",
      "2000-01-01  0.075907  5.442070  0.435527\n",
      "2000-01-02  0.783360  0.296633  7.014454\n",
      "2000-01-03  1.046163  0.704323  1.507501\n",
      "2000-01-04  1.188671  5.758840  2.688649\n",
      "2000-01-05  0.214697  0.385457  0.823782\n",
      "2000-01-06  0.146980  3.526361  2.259967\n",
      "2000-01-07  0.661321  0.322948  1.142475\n",
      "2000-01-08  7.440993  0.681331  1.647149\n",
      "[[-2.57825255  1.69415955 -0.8311984 ]\n",
      " [-0.2441632  -1.21526025  1.94797293]\n",
      " [ 0.04512937 -0.35051771  0.41045307]\n",
      " [ 0.17283575  1.75073602  0.98903891]\n",
      " [-1.53852592 -0.95332483 -0.19384969]\n",
      " [-1.91745605  1.26026659  0.81535001]\n",
      " [-0.41351625 -1.13026401  0.13319666]\n",
      " [ 2.00700428 -0.38370727  0.49904576]]\n"
     ]
    }
   ],
   "source": [
    "print df[:5]\n",
    "\n",
    "print df[:5].T\n",
    "\n",
    "print np.exp(df)\n",
    "\n",
    "# convert DataFrame to list\n",
    "\n",
    "print np.asarray(df)"
   ]
  },
  {
   "cell_type": "markdown",
   "metadata": {},
   "source": [
    "The dot method on DataFrame implements matrix multiplication:"
   ]
  },
  {
   "cell_type": "code",
   "execution_count": 31,
   "metadata": {},
   "outputs": [
    {
     "data": {
      "text/html": [
       "<div>\n",
       "<style>\n",
       "    .dataframe thead tr:only-child th {\n",
       "        text-align: right;\n",
       "    }\n",
       "\n",
       "    .dataframe thead th {\n",
       "        text-align: left;\n",
       "    }\n",
       "\n",
       "    .dataframe tbody tr th {\n",
       "        vertical-align: top;\n",
       "    }\n",
       "</style>\n",
       "<table border=\"1\" class=\"dataframe\">\n",
       "  <thead>\n",
       "    <tr style=\"text-align: right;\">\n",
       "      <th></th>\n",
       "      <th>A</th>\n",
       "      <th>B</th>\n",
       "      <th>C</th>\n",
       "    </tr>\n",
       "  </thead>\n",
       "  <tbody>\n",
       "    <tr>\n",
       "      <th>A</th>\n",
       "      <td>16.981672</td>\n",
       "      <td>-5.036989</td>\n",
       "      <td>1.538234</td>\n",
       "    </tr>\n",
       "    <tr>\n",
       "      <th>B</th>\n",
       "      <td>-5.036989</td>\n",
       "      <td>11.456801</td>\n",
       "      <td>-1.317477</td>\n",
       "    </tr>\n",
       "    <tr>\n",
       "      <th>C</th>\n",
       "      <td>1.538234</td>\n",
       "      <td>-1.317477</td>\n",
       "      <td>6.601320</td>\n",
       "    </tr>\n",
       "  </tbody>\n",
       "</table>\n",
       "</div>"
      ],
      "text/plain": [
       "           A          B         C\n",
       "A  16.981672  -5.036989  1.538234\n",
       "B  -5.036989  11.456801 -1.317477\n",
       "C   1.538234  -1.317477  6.601320"
      ]
     },
     "execution_count": 31,
     "metadata": {},
     "output_type": "execute_result"
    }
   ],
   "source": [
    "df.T.dot(df)"
   ]
  },
  {
   "cell_type": "markdown",
   "metadata": {},
   "source": [
    "Similarly, the dot method on Series implements dot product:"
   ]
  },
  {
   "cell_type": "code",
   "execution_count": 32,
   "metadata": {},
   "outputs": [
    {
     "name": "stdout",
     "output_type": "stream",
     "text": [
      "[5 6 7 8 9]\n",
      "0    5\n",
      "1    6\n",
      "2    7\n",
      "3    8\n",
      "4    9\n",
      "dtype: int32\n"
     ]
    },
    {
     "data": {
      "text/plain": [
       "255"
      ]
     },
     "execution_count": 32,
     "metadata": {},
     "output_type": "execute_result"
    }
   ],
   "source": [
    "print np.arange(5,10)\n",
    "\n",
    "s1 = pd.Series(np.arange(5,10))\n",
    "print s1\n",
    "\n",
    "s1.dot(s1)"
   ]
  },
  {
   "cell_type": "markdown",
   "metadata": {},
   "source": [
    "#### Console Display\n",
    "\n",
    "Very large DataFrames will be truncated to display them in the console. You can also get a summary using info(). \n",
    "\n",
    "```\n",
    "In [101]: baseball = pd.read_csv('data/baseball.csv')\n",
    "\n",
    "In [102]: print(baseball)\n",
    "       id     player  year  stint  ...   hbp   sh   sf  gidp\n",
    "0   88641  womacto01  2006      2  ...   0.0  3.0  0.0   0.0\n",
    "1   88643  schilcu01  2006      1  ...   0.0  0.0  0.0   0.0\n",
    "..    ...        ...   ...    ...  ...   ...  ...  ...   ...\n",
    "98  89533   aloumo01  2007      1  ...   2.0  0.0  3.0  13.0\n",
    "99  89534  alomasa02  2007      1  ...   0.0  0.0  0.0   0.0\n",
    "\n",
    "[100 rows x 23 columns]\n",
    "\n",
    "In [103]: baseball.info()\n",
    "<class 'pandas.core.frame.DataFrame'>\n",
    "RangeIndex: 100 entries, 0 to 99\n",
    "Data columns (total 23 columns):\n",
    "id        100 non-null int64\n",
    "player    100 non-null object\n",
    "year      100 non-null int64\n",
    "stint     100 non-null int64\n",
    "team      100 non-null object\n",
    "lg        100 non-null object\n",
    "g         100 non-null int64\n",
    "```"
   ]
  },
  {
   "cell_type": "markdown",
   "metadata": {},
   "source": [
    "#### Displaying DataFrames nicely"
   ]
  },
  {
   "cell_type": "code",
   "execution_count": 33,
   "metadata": {},
   "outputs": [
    {
     "name": "stdout",
     "output_type": "stream",
     "text": [
      "         0         1         2         3         4         5         6   \\\n",
      "0 -0.253900  0.584259 -0.312920  0.216819 -1.280112  1.019488 -0.083052   \n",
      "1 -1.090183 -0.836713 -0.514732  0.694000  1.420232 -1.603953  0.361184   \n",
      "2 -0.719813 -0.332934 -0.543736  0.777469 -0.804925  0.972089 -0.813853   \n",
      "\n",
      "         7         8         9         10        11  \n",
      "0 -0.078532 -0.058901  0.625518 -0.612055  0.997725  \n",
      "1 -0.515818 -0.579898  0.387976 -1.110649  1.665288  \n",
      "2  0.322672 -0.789464 -0.354503  0.398030  0.284463  \n",
      "         0         1         2   \\\n",
      "0 -0.433995 -0.722377  0.680317   \n",
      "1  0.768410 -0.159551  0.657158   \n",
      "2 -1.234183 -0.709187 -0.048128   \n",
      "\n",
      "         3         4         5   \\\n",
      "0 -0.433962  0.638857  0.870519   \n",
      "1  0.997133 -1.426033  0.502588   \n",
      "2 -0.250349  1.919674 -1.836926   \n",
      "\n",
      "         6         7         8   \\\n",
      "0 -0.018669  0.103370 -0.723775   \n",
      "1 -0.352842  0.496643 -0.170151   \n",
      "2  0.186906  2.804094 -1.059955   \n",
      "\n",
      "         9         10        11  \n",
      "0 -0.492230  0.395028 -0.702857  \n",
      "1 -0.753926  1.040201 -2.415018  \n",
      "2  0.876888  1.916511  1.271740  \n"
     ]
    }
   ],
   "source": [
    "# Wide DataFrames will be printed across multiple rows by default:\n",
    "\n",
    "print pd.DataFrame(np.random.randn(3, 12))\n",
    "\n",
    "# You can change how much to print on a single row by setting the display.width option:\n",
    "\n",
    "pd.set_option('display.width', 40) # default is 80\n",
    "\n",
    "print pd.DataFrame(np.random.randn(3, 12))\n"
   ]
  },
  {
   "cell_type": "markdown",
   "metadata": {},
   "source": [
    "### End of Intro to Data Structures"
   ]
  },
  {
   "cell_type": "code",
   "execution_count": 34,
   "metadata": {},
   "outputs": [
    {
     "data": {
      "text/plain": [
       "0    1.0\n",
       "1    3.0\n",
       "2    5.0\n",
       "3    NaN\n",
       "4    6.0\n",
       "5    8.0\n",
       "dtype: float64"
      ]
     },
     "execution_count": 34,
     "metadata": {},
     "output_type": "execute_result"
    }
   ],
   "source": [
    "# Creating a Series\n",
    "\n",
    "s = pd.Series([1, 3, 5, np.nan, 6, 8])\n",
    "\n",
    "s"
   ]
  },
  {
   "cell_type": "markdown",
   "metadata": {},
   "source": [
    "We now want to create a DataFrame by passing a numpy array, with datetime index and labeled columns"
   ]
  },
  {
   "cell_type": "code",
   "execution_count": 45,
   "metadata": {},
   "outputs": [
    {
     "name": "stdout",
     "output_type": "stream",
     "text": [
      "                   A         B         C         D\n",
      "2013-01-01 -0.206753  0.583248 -1.025755  1.287276\n",
      "2013-01-02 -1.087595  0.256726 -0.463723  0.581591\n",
      "2013-01-03 -0.884561  0.022692 -0.301526 -1.972375\n",
      "2013-01-04 -0.625008  0.368609  0.292438 -0.498790\n",
      "2013-01-05  0.921046  0.327934  1.248494  0.325149\n",
      "2013-01-06 -1.477962  0.685596 -0.047341 -1.087703\n"
     ]
    }
   ],
   "source": [
    "# resetting the width\n",
    "\n",
    "pd.set_option('display.width', 80) \n",
    "\n",
    "dates = pd.date_range('20130101', periods=6)\n",
    "\n",
    "df = pd.DataFrame(np.random.randn(6, 4), columns=list('ABCD'), index=dates)\n",
    "\n",
    "print df"
   ]
  },
  {
   "cell_type": "markdown",
   "metadata": {},
   "source": [
    "#### A DataFrame may also be created by passing in a dict of objects of various data types"
   ]
  },
  {
   "cell_type": "code",
   "execution_count": 36,
   "metadata": {},
   "outputs": [
    {
     "data": {
      "text/html": [
       "<div>\n",
       "<style>\n",
       "    .dataframe thead tr:only-child th {\n",
       "        text-align: right;\n",
       "    }\n",
       "\n",
       "    .dataframe thead th {\n",
       "        text-align: left;\n",
       "    }\n",
       "\n",
       "    .dataframe tbody tr th {\n",
       "        vertical-align: top;\n",
       "    }\n",
       "</style>\n",
       "<table border=\"1\" class=\"dataframe\">\n",
       "  <thead>\n",
       "    <tr style=\"text-align: right;\">\n",
       "      <th></th>\n",
       "      <th>A</th>\n",
       "      <th>B</th>\n",
       "      <th>C</th>\n",
       "      <th>D</th>\n",
       "      <th>E</th>\n",
       "      <th>F</th>\n",
       "    </tr>\n",
       "  </thead>\n",
       "  <tbody>\n",
       "    <tr>\n",
       "      <th>0</th>\n",
       "      <td>1.0</td>\n",
       "      <td>2013-01-02</td>\n",
       "      <td>1.0</td>\n",
       "      <td>3</td>\n",
       "      <td>test</td>\n",
       "      <td>foo</td>\n",
       "    </tr>\n",
       "    <tr>\n",
       "      <th>1</th>\n",
       "      <td>1.0</td>\n",
       "      <td>2013-01-02</td>\n",
       "      <td>1.0</td>\n",
       "      <td>3</td>\n",
       "      <td>train</td>\n",
       "      <td>foo</td>\n",
       "    </tr>\n",
       "    <tr>\n",
       "      <th>2</th>\n",
       "      <td>1.0</td>\n",
       "      <td>2013-01-02</td>\n",
       "      <td>1.0</td>\n",
       "      <td>3</td>\n",
       "      <td>test</td>\n",
       "      <td>foo</td>\n",
       "    </tr>\n",
       "    <tr>\n",
       "      <th>3</th>\n",
       "      <td>1.0</td>\n",
       "      <td>2013-01-02</td>\n",
       "      <td>1.0</td>\n",
       "      <td>3</td>\n",
       "      <td>train</td>\n",
       "      <td>foo</td>\n",
       "    </tr>\n",
       "  </tbody>\n",
       "</table>\n",
       "</div>"
      ],
      "text/plain": [
       "     A          B    C  D      E    F\n",
       "0  1.0 2013-01-02  1.0  3   test  foo\n",
       "1  1.0 2013-01-02  1.0  3  train  foo\n",
       "2  1.0 2013-01-02  1.0  3   test  foo\n",
       "3  1.0 2013-01-02  1.0  3  train  foo"
      ]
     },
     "execution_count": 36,
     "metadata": {},
     "output_type": "execute_result"
    }
   ],
   "source": [
    "# 1. => it should be a floating type value and not an int\n",
    "\n",
    "df2 = pd.DataFrame({\n",
    "    'A': 1.,\n",
    "    'B': pd.Timestamp('20130102'),\n",
    "    'C': pd.Series(1, index=list(range(4)), dtype='float32'),\n",
    "    'D': np.array([3] * 4, dtype='int32'),\n",
    "    'E': pd.Categorical([\"test\", \"train\", \"test\", \"train\"]),\n",
    "    'F': 'foo'\n",
    "})\n",
    "\n",
    "df2\n",
    "\n",
    "# print df2.dtypes"
   ]
  },
  {
   "cell_type": "markdown",
   "metadata": {},
   "source": [
    "#### Viewing Data"
   ]
  },
  {
   "cell_type": "code",
   "execution_count": 37,
   "metadata": {},
   "outputs": [
    {
     "data": {
      "text/html": [
       "<div>\n",
       "<style>\n",
       "    .dataframe thead tr:only-child th {\n",
       "        text-align: right;\n",
       "    }\n",
       "\n",
       "    .dataframe thead th {\n",
       "        text-align: left;\n",
       "    }\n",
       "\n",
       "    .dataframe tbody tr th {\n",
       "        vertical-align: top;\n",
       "    }\n",
       "</style>\n",
       "<table border=\"1\" class=\"dataframe\">\n",
       "  <thead>\n",
       "    <tr style=\"text-align: right;\">\n",
       "      <th></th>\n",
       "      <th>A</th>\n",
       "      <th>B</th>\n",
       "      <th>C</th>\n",
       "      <th>D</th>\n",
       "    </tr>\n",
       "  </thead>\n",
       "  <tbody>\n",
       "    <tr>\n",
       "      <th>count</th>\n",
       "      <td>6.000000</td>\n",
       "      <td>6.000000</td>\n",
       "      <td>6.000000</td>\n",
       "      <td>6.000000</td>\n",
       "    </tr>\n",
       "    <tr>\n",
       "      <th>mean</th>\n",
       "      <td>0.490696</td>\n",
       "      <td>0.495231</td>\n",
       "      <td>0.113874</td>\n",
       "      <td>0.335393</td>\n",
       "    </tr>\n",
       "    <tr>\n",
       "      <th>std</th>\n",
       "      <td>1.229485</td>\n",
       "      <td>1.473172</td>\n",
       "      <td>0.751488</td>\n",
       "      <td>1.195150</td>\n",
       "    </tr>\n",
       "    <tr>\n",
       "      <th>min</th>\n",
       "      <td>-1.240949</td>\n",
       "      <td>-1.336863</td>\n",
       "      <td>-1.021985</td>\n",
       "      <td>-1.241219</td>\n",
       "    </tr>\n",
       "    <tr>\n",
       "      <th>25%</th>\n",
       "      <td>-0.266121</td>\n",
       "      <td>-0.613088</td>\n",
       "      <td>-0.176114</td>\n",
       "      <td>-0.563333</td>\n",
       "    </tr>\n",
       "    <tr>\n",
       "      <th>50%</th>\n",
       "      <td>0.578157</td>\n",
       "      <td>0.811057</td>\n",
       "      <td>0.117393</td>\n",
       "      <td>0.436926</td>\n",
       "    </tr>\n",
       "    <tr>\n",
       "      <th>75%</th>\n",
       "      <td>1.225824</td>\n",
       "      <td>1.098448</td>\n",
       "      <td>0.413631</td>\n",
       "      <td>1.292508</td>\n",
       "    </tr>\n",
       "    <tr>\n",
       "      <th>max</th>\n",
       "      <td>2.134645</td>\n",
       "      <td>2.579691</td>\n",
       "      <td>1.232015</td>\n",
       "      <td>1.698775</td>\n",
       "    </tr>\n",
       "  </tbody>\n",
       "</table>\n",
       "</div>"
      ],
      "text/plain": [
       "              A         B         C         D\n",
       "count  6.000000  6.000000  6.000000  6.000000\n",
       "mean   0.490696  0.495231  0.113874  0.335393\n",
       "std    1.229485  1.473172  0.751488  1.195150\n",
       "min   -1.240949 -1.336863 -1.021985 -1.241219\n",
       "25%   -0.266121 -0.613088 -0.176114 -0.563333\n",
       "50%    0.578157  0.811057  0.117393  0.436926\n",
       "75%    1.225824  1.098448  0.413631  1.292508\n",
       "max    2.134645  2.579691  1.232015  1.698775"
      ]
     },
     "execution_count": 37,
     "metadata": {},
     "output_type": "execute_result"
    }
   ],
   "source": [
    "# print df.head()\n",
    "\n",
    "# print df.tail(3)\n",
    "\n",
    "# print df.index\n",
    "\n",
    "# print df.columns\n",
    "\n",
    "# print df.values # returns list of lists\n",
    "\n",
    "# Describe shows a quick statistic summary of your data\n",
    "\n",
    "df.describe()\n",
    "\n",
    "# Transpose\n",
    "\n",
    "# print df.T"
   ]
  },
  {
   "cell_type": "markdown",
   "metadata": {},
   "source": [
    "Sorting by axis"
   ]
  },
  {
   "cell_type": "code",
   "execution_count": 46,
   "metadata": {},
   "outputs": [
    {
     "name": "stdout",
     "output_type": "stream",
     "text": [
      "                   A         B         C         D\n",
      "2013-01-01 -0.206753  0.583248 -1.025755  1.287276\n",
      "2013-01-02 -1.087595  0.256726 -0.463723  0.581591\n",
      "2013-01-03 -0.884561  0.022692 -0.301526 -1.972375\n",
      "2013-01-04 -0.625008  0.368609  0.292438 -0.498790\n",
      "2013-01-05  0.921046  0.327934  1.248494  0.325149\n",
      "2013-01-06 -1.477962  0.685596 -0.047341 -1.087703\n",
      "                   D         C         B         A\n",
      "2013-01-01  1.287276 -1.025755  0.583248 -0.206753\n",
      "2013-01-02  0.581591 -0.463723  0.256726 -1.087595\n",
      "2013-01-03 -1.972375 -0.301526  0.022692 -0.884561\n",
      "2013-01-04 -0.498790  0.292438  0.368609 -0.625008\n",
      "2013-01-05  0.325149  1.248494  0.327934  0.921046\n",
      "2013-01-06 -1.087703 -0.047341  0.685596 -1.477962\n"
     ]
    }
   ],
   "source": [
    "print df\n",
    "\n",
    "print df.sort_index(axis=1, ascending=False)"
   ]
  },
  {
   "cell_type": "markdown",
   "metadata": {},
   "source": [
    "Sorting by values"
   ]
  },
  {
   "cell_type": "code",
   "execution_count": 48,
   "metadata": {},
   "outputs": [
    {
     "data": {
      "text/html": [
       "<div>\n",
       "<style>\n",
       "    .dataframe thead tr:only-child th {\n",
       "        text-align: right;\n",
       "    }\n",
       "\n",
       "    .dataframe thead th {\n",
       "        text-align: left;\n",
       "    }\n",
       "\n",
       "    .dataframe tbody tr th {\n",
       "        vertical-align: top;\n",
       "    }\n",
       "</style>\n",
       "<table border=\"1\" class=\"dataframe\">\n",
       "  <thead>\n",
       "    <tr style=\"text-align: right;\">\n",
       "      <th></th>\n",
       "      <th>A</th>\n",
       "      <th>B</th>\n",
       "      <th>C</th>\n",
       "      <th>D</th>\n",
       "    </tr>\n",
       "  </thead>\n",
       "  <tbody>\n",
       "    <tr>\n",
       "      <th>2013-01-03</th>\n",
       "      <td>-0.884561</td>\n",
       "      <td>0.022692</td>\n",
       "      <td>-0.301526</td>\n",
       "      <td>-1.972375</td>\n",
       "    </tr>\n",
       "    <tr>\n",
       "      <th>2013-01-02</th>\n",
       "      <td>-1.087595</td>\n",
       "      <td>0.256726</td>\n",
       "      <td>-0.463723</td>\n",
       "      <td>0.581591</td>\n",
       "    </tr>\n",
       "    <tr>\n",
       "      <th>2013-01-05</th>\n",
       "      <td>0.921046</td>\n",
       "      <td>0.327934</td>\n",
       "      <td>1.248494</td>\n",
       "      <td>0.325149</td>\n",
       "    </tr>\n",
       "    <tr>\n",
       "      <th>2013-01-04</th>\n",
       "      <td>-0.625008</td>\n",
       "      <td>0.368609</td>\n",
       "      <td>0.292438</td>\n",
       "      <td>-0.498790</td>\n",
       "    </tr>\n",
       "    <tr>\n",
       "      <th>2013-01-01</th>\n",
       "      <td>-0.206753</td>\n",
       "      <td>0.583248</td>\n",
       "      <td>-1.025755</td>\n",
       "      <td>1.287276</td>\n",
       "    </tr>\n",
       "    <tr>\n",
       "      <th>2013-01-06</th>\n",
       "      <td>-1.477962</td>\n",
       "      <td>0.685596</td>\n",
       "      <td>-0.047341</td>\n",
       "      <td>-1.087703</td>\n",
       "    </tr>\n",
       "  </tbody>\n",
       "</table>\n",
       "</div>"
      ],
      "text/plain": [
       "                   A         B         C         D\n",
       "2013-01-03 -0.884561  0.022692 -0.301526 -1.972375\n",
       "2013-01-02 -1.087595  0.256726 -0.463723  0.581591\n",
       "2013-01-05  0.921046  0.327934  1.248494  0.325149\n",
       "2013-01-04 -0.625008  0.368609  0.292438 -0.498790\n",
       "2013-01-01 -0.206753  0.583248 -1.025755  1.287276\n",
       "2013-01-06 -1.477962  0.685596 -0.047341 -1.087703"
      ]
     },
     "execution_count": 48,
     "metadata": {},
     "output_type": "execute_result"
    }
   ],
   "source": [
    "df.sort_values(by='B')"
   ]
  },
  {
   "cell_type": "markdown",
   "metadata": {},
   "source": [
    "#### Selection\n",
    "\n",
    "Selecting a single column, which yields a Series, equivalent to ```df.A```\n"
   ]
  },
  {
   "cell_type": "code",
   "execution_count": 47,
   "metadata": {},
   "outputs": [
    {
     "name": "stdout",
     "output_type": "stream",
     "text": [
      "2013-01-01   -0.206753\n",
      "2013-01-02   -1.087595\n",
      "2013-01-03   -0.884561\n",
      "2013-01-04   -0.625008\n",
      "2013-01-05    0.921046\n",
      "2013-01-06   -1.477962\n",
      "Freq: D, Name: A, dtype: float64\n"
     ]
    }
   ],
   "source": [
    "print df['A']"
   ]
  },
  {
   "cell_type": "markdown",
   "metadata": {},
   "source": [
    "Selecting via [], which slices the rows."
   ]
  },
  {
   "cell_type": "code",
   "execution_count": 43,
   "metadata": {},
   "outputs": [
    {
     "name": "stdout",
     "output_type": "stream",
     "text": [
      "          A         B         C         D\n",
      "0  0.119354 -1.336863 -1.021985  1.698775\n",
      "1 -0.394613  1.184046 -0.250348  0.163927\n",
      "2  2.134645  2.579691  0.046586 -1.241219\n"
     ]
    }
   ],
   "source": [
    "print df[0:3]"
   ]
  },
  {
   "cell_type": "markdown",
   "metadata": {},
   "source": [
    "#### Selection using Label\n",
    "\n",
    "For getting a cross section using a label"
   ]
  },
  {
   "cell_type": "code",
   "execution_count": 52,
   "metadata": {},
   "outputs": [
    {
     "name": "stdout",
     "output_type": "stream",
     "text": [
      "                   A         B         C         D\n",
      "2013-01-01 -0.206753  0.583248 -1.025755  1.287276\n",
      "2013-01-02 -1.087595  0.256726 -0.463723  0.581591\n",
      "2013-01-03 -0.884561  0.022692 -0.301526 -1.972375\n",
      "2013-01-04 -0.625008  0.368609  0.292438 -0.498790\n",
      "2013-01-05  0.921046  0.327934  1.248494  0.325149\n",
      "2013-01-06 -1.477962  0.685596 -0.047341 -1.087703\n",
      "A   -0.206753\n",
      "B    0.583248\n",
      "C   -1.025755\n",
      "D    1.287276\n",
      "Name: 2013-01-01 00:00:00, dtype: float64\n",
      "                   A         B\n",
      "2013-01-01 -0.206753  0.583248\n",
      "2013-01-02 -1.087595  0.256726\n",
      "2013-01-03 -0.884561  0.022692\n",
      "2013-01-04 -0.625008  0.368609\n",
      "2013-01-05  0.921046  0.327934\n",
      "2013-01-06 -1.477962  0.685596\n",
      "                   B         D\n",
      "2013-01-02  0.256726  0.581591\n",
      "2013-01-03  0.022692 -1.972375\n",
      "2013-01-04  0.368609 -0.498790\n"
     ]
    }
   ],
   "source": [
    "print df\n",
    "\n",
    "# print all cols of row pointed by dates[0]\n",
    "\n",
    "print df.loc[dates[0]]\n",
    "\n",
    "# print all rows and only columns: A and B\n",
    "\n",
    "print df.loc[:, ['A', 'B']]\n",
    "\n",
    "# print cols B and D pointed by the rows '20130102':'20130104'b\n",
    "\n",
    "print df.loc['20130102':'20130104', ['B', 'D']]"
   ]
  },
  {
   "cell_type": "markdown",
   "metadata": {},
   "source": [
    "For getting a scalar value\n"
   ]
  },
  {
   "cell_type": "code",
   "execution_count": 55,
   "metadata": {},
   "outputs": [
    {
     "name": "stdout",
     "output_type": "stream",
     "text": [
      "-0.206752638997\n",
      "A   -0.206753\n",
      "Name: 2013-01-01 00:00:00, dtype: float64\n"
     ]
    }
   ],
   "source": [
    "# returns a scalar value\n",
    "\n",
    "print df.loc[dates[0], 'A']\n",
    "\n",
    "# returns a DataFrame\n",
    "\n",
    "print df.loc[dates[0], ['A']]"
   ]
  },
  {
   "cell_type": "markdown",
   "metadata": {},
   "source": [
    "#### Selecting by Position\n",
    "\n",
    "Select via the position of the passed integers"
   ]
  },
  {
   "cell_type": "code",
   "execution_count": 58,
   "metadata": {},
   "outputs": [
    {
     "name": "stdout",
     "output_type": "stream",
     "text": [
      "                   A         B         C         D\n",
      "2013-01-01 -0.206753  0.583248 -1.025755  1.287276\n",
      "2013-01-02 -1.087595  0.256726 -0.463723  0.581591\n",
      "2013-01-03 -0.884561  0.022692 -0.301526 -1.972375\n",
      "2013-01-04 -0.625008  0.368609  0.292438 -0.498790\n",
      "2013-01-05  0.921046  0.327934  1.248494  0.325149\n",
      "2013-01-06 -1.477962  0.685596 -0.047341 -1.087703\n",
      "A   -0.625008\n",
      "B    0.368609\n",
      "C    0.292438\n",
      "D   -0.498790\n",
      "Name: 2013-01-04 00:00:00, dtype: float64\n",
      "                   A         B\n",
      "2013-01-04 -0.625008  0.368609\n",
      "2013-01-05  0.921046  0.327934\n"
     ]
    }
   ],
   "source": [
    "print df\n",
    "\n",
    "print df.iloc[3]\n",
    "\n",
    "# By integer slices, acting similar to numpy/python\n",
    "\n",
    "print df.iloc[3:5, 0:2]\n",
    "\n",
    "# By lists of integer position locations, similar to the numpy/python style\n",
    "print df.iloc[3:5,0:2]"
   ]
  }
 ],
 "metadata": {
  "kernelspec": {
   "display_name": "Python 2",
   "language": "python",
   "name": "python2"
  },
  "language_info": {
   "codemirror_mode": {
    "name": "ipython",
    "version": 2
   },
   "file_extension": ".py",
   "mimetype": "text/x-python",
   "name": "python",
   "nbconvert_exporter": "python",
   "pygments_lexer": "ipython2",
   "version": "2.7.14"
  }
 },
 "nbformat": 4,
 "nbformat_minor": 2
}
